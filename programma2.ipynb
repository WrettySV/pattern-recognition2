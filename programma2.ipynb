{
 "cells": [
  {
   "cell_type": "code",
   "execution_count": 1,
   "metadata": {},
   "outputs": [],
   "source": [
    "import numpy as np\n",
    "import cv2\n",
    "import math\n",
    "import collections\n",
    "import os\n",
    "from pathlib import Path\n",
    "from skimage.morphology import skeletonize"
   ]
  },
  {
   "cell_type": "code",
   "execution_count": 2,
   "metadata": {},
   "outputs": [],
   "source": [
    "import matplotlib.pyplot as plt\n",
    "\n",
    "%matplotlib inline\n",
    "def plot_image(img, zoom=1.5):\n",
    "    assert(2 <= len(img.shape) <= 3)\n",
    "    \n",
    "    is_gray = len(img.shape) == 2\n",
    "    if not is_gray:\n",
    "        img = img[:,:,::-1]\n",
    "    n_len = 6.5\n",
    "    \n",
    "    n, m = img.shape[:2]\n",
    "    frac = n / float(m)\n",
    "    n, m = zoom * frac * n_len, zoom * n_len\n",
    "    \n",
    "    fig = plt.figure(figsize=(n, m))\n",
    "    ax = fig.add_subplot(111)\n",
    "    ax.imshow(img, cmap='gray' if is_gray else None)\n",
    "    ax.set_yticklabels([])\n",
    "    ax.set_xticklabels([])\n",
    "    plt.axis(\"off\")\n",
    "    plt.show()"
   ]
  },
  {
   "cell_type": "code",
   "execution_count": 3,
   "metadata": {},
   "outputs": [],
   "source": [
    "def skeleton_endpoints(skeleton, neighbours=1):\n",
    "    skeleton = skeleton.copy()\n",
    "    skeleton[skeleton > 0] = 1\n",
    "    skeleton = skeleton.astype(np.uint8)\n",
    "\n",
    "    kernel = np.array(\n",
    "        [[1,  1, 1],\n",
    "         [1, 10, 1],\n",
    "         [1,  1, 1]], dtype=np.uint8)\n",
    "    filtered = cv2.filter2D(skeleton, -1, kernel)\n",
    "\n",
    "    result = np.zeros(skeleton.shape)\n",
    "    result[np.where(filtered == 10 + neighbours)] = 1\n",
    "    return result"
   ]
  },
  {
   "cell_type": "code",
   "execution_count": 4,
   "metadata": {},
   "outputs": [],
   "source": [
    "def create_brush(d):\n",
    "    brush = np.zeros((d, d), dtype=np.uint8)\n",
    "    cv2.circle(brush, (d // 2, d // 2), d // 2, 1, -1)\n",
    "    return brush"
   ]
  },
  {
   "cell_type": "code",
   "execution_count": 5,
   "metadata": {},
   "outputs": [],
   "source": [
    "def scale_image_pixels(img):\n",
    "    img = img.astype(np.float32)\n",
    "    img = (img - img.min()) / (img.max() - img.min()) * 255\n",
    "    return img.astype(np.uint8)"
   ]
  },
  {
   "cell_type": "code",
   "execution_count": 6,
   "metadata": {},
   "outputs": [],
   "source": [
    "def read(pattern=\"[2-5].jpg\"):\n",
    "    images = []\n",
    "    \n",
    "    folder = Path(\"samples\")\n",
    "    files_with_maps = folder.glob(pattern)\n",
    "    files=list(files_with_maps)\n",
    "    \n",
    "    for file in files:\n",
    "        img = cv2.imread(str(file), 0)\n",
    "        images.append(img)\n",
    "        \n",
    "    return images"
   ]
  },
  {
   "cell_type": "code",
   "execution_count": 7,
   "metadata": {},
   "outputs": [],
   "source": [
    "def skeleton_ex_points(img,rad=55):\n",
    "    end_points=[]\n",
    "    _, img_mask = cv2.threshold(img, 80, 255, cv2.THRESH_BINARY_INV)\n",
    "    img = cv2.dilate(img_mask, kernel=create_brush(13), iterations=2)\n",
    "    skeleton = skeletonize(img > 0)\n",
    "    points = skeleton_endpoints(skeleton)\n",
    "    points =np.where(points!=0)\n",
    "    \n",
    "    skel_pix=skeleton.copy()\n",
    "    skel_pix = scale_image_pixels(skel_pix)\n",
    "    skel_pix = cv2.dilate(skel_pix, create_brush(9))\n",
    "    skel_pix = scale_image_pixels(skel_pix)\n",
    "    skel_pix=cv2.bitwise_not(skel_pix)\n",
    "    \n",
    "    skeleton=skeleton.astype(np.uint8)*255\n",
    "    skeleton=cv2.bitwise_not(skeleton)    \n",
    "\n",
    "    for i in range(len(points[0])):\n",
    "        white=np.ones(skel_pix.shape).astype(np.uint8)*255\n",
    "        cv2.circle(white, (points[1][i], points[0][i]), rad, (0, 0 , 0), 2)    \n",
    "        cnt_l=cv2.findContours(white, cv2.RETR_TREE, cv2.CHAIN_APPROX_SIMPLE)[0][0]\n",
    "        cnt_r=cv2.findContours(white, cv2.RETR_TREE, cv2.CHAIN_APPROX_SIMPLE)[0][1]\n",
    "        area_r=cv2.contourArea(cnt_r)\n",
    "        area_l=cv2.contourArea(cnt_l)\n",
    "        if area_r>area_l:\n",
    "            if area_l/(math.pi*rad*rad)>0.6:\n",
    "                end_points.append(np.array([points[1][i], points[0][i]]))\n",
    "        else:\n",
    "            if area_r/(math.pi*rad*rad)>0.6:\n",
    "                end_points.append(np.array([points[1][i], points[0][i]])) \n",
    "    return skeleton, skel_pix, end_points"
   ]
  },
  {
   "cell_type": "code",
   "execution_count": 8,
   "metadata": {},
   "outputs": [],
   "source": [
    "def center_balls (img):\n",
    "    #img = cv2.medianBlur(img_gray,101)\n",
    "    img=cv2.bitwise_not(img)\n",
    "    #img=img_gray.copy()\n",
    "    cimg = cv2.cvtColor(img,cv2.COLOR_GRAY2BGR)\n",
    "    #plot_image(cimg)\n",
    "    circles = cv2.HoughCircles(img,cv2.HOUGH_GRADIENT,1,10,param1=100,param2=22,minRadius=7,maxRadius=20)\n",
    "    circles = np.int64(np.around(circles))\n",
    "    balls = list(circles[0][:,0:2])\n",
    "    return balls\n",
    "    "
   ]
  },
  {
   "cell_type": "code",
   "execution_count": 9,
   "metadata": {},
   "outputs": [],
   "source": [
    "def remove (points,eps=27):\n",
    "    new_points=points.copy()\n",
    "    for i in range(len(points)):\n",
    "        p=points[i]\n",
    "        check=False\n",
    "        for j in range(i+1,len(points)):\n",
    "            c=points[j]  \n",
    "            if(np.linalg.norm(p-c)<eps):\n",
    "                check=True\n",
    "        if check:\n",
    "            new_points=list(filter(lambda a: a[0]!=p[0] and a[1]!=p[1], new_points))\n",
    "    return new_points\n",
    "    "
   ]
  },
  {
   "cell_type": "code",
   "execution_count": 10,
   "metadata": {},
   "outputs": [],
   "source": [
    "def vector (points, balls, skel,rad=55,eps=27):\n",
    "    new_points=remove(points)\n",
    "    new_balls=remove(balls) \n",
    "    vertexes=new_balls.copy()\n",
    "    vec=[0,0,0,0,0,0,0,0,0]\n",
    "    for p in new_points:\n",
    "        check=True\n",
    "        for c in new_balls:\n",
    "            if(np.linalg.norm(p-c)<eps):\n",
    "                check=False\n",
    "        if check:\n",
    "            vertexes.append(p)\n",
    "    for v in vertexes:\n",
    "        white=np.ones(skel.shape).astype(np.uint8)*255\n",
    "        cv2.circle(white,(v[0],v[1]),rad,(0,0,0),2)   \n",
    "        ind=np.where(white==0)\n",
    "        j=round(len(np.where(skel[ind]==0)[0])/24)-1\n",
    "        vec[j]+=1\n",
    "        #plot_image(white==skel,zoom=0.5)\n",
    "        #print(j+1, \"        \",v[0],v[1])\n",
    "    return vec\n"
   ]
  },
  {
   "cell_type": "code",
   "execution_count": 11,
   "metadata": {},
   "outputs": [],
   "source": [
    "#Обучение\n",
    "images=read(pattern=\"[2-5].jpg\")\n",
    "vectors=[]\n",
    "for img in images:\n",
    "    skeleton, skel, points = skeleton_ex_points(img,rad=55)\n",
    "    balls=center_balls(img)\n",
    "    vec =vector(points, balls, skel)\n",
    "    vectors.append(vec)\n",
    "vectors=np.array(vectors)"
   ]
  },
  {
   "cell_type": "code",
   "execution_count": 12,
   "metadata": {},
   "outputs": [],
   "source": [
    "ans = ['1st','2nd','3rd','4th']\n",
    "col=list(\"123456789\")\n",
    "import pandas as pd\n",
    "data = pd.DataFrame(ans)\n",
    "for i in col:\n",
    "    data[i] = vectors[:,int(i)-1]\n",
    "\n",
    "y = data[0]\n",
    "X = data[col]\n"
   ]
  },
  {
   "cell_type": "code",
   "execution_count": 13,
   "metadata": {},
   "outputs": [
    {
     "data": {
      "text/html": [
       "<div>\n",
       "<style scoped>\n",
       "    .dataframe tbody tr th:only-of-type {\n",
       "        vertical-align: middle;\n",
       "    }\n",
       "\n",
       "    .dataframe tbody tr th {\n",
       "        vertical-align: top;\n",
       "    }\n",
       "\n",
       "    .dataframe thead th {\n",
       "        text-align: right;\n",
       "    }\n",
       "</style>\n",
       "<table border=\"1\" class=\"dataframe\">\n",
       "  <thead>\n",
       "    <tr style=\"text-align: right;\">\n",
       "      <th></th>\n",
       "      <th>0</th>\n",
       "      <th>1</th>\n",
       "      <th>2</th>\n",
       "      <th>3</th>\n",
       "      <th>4</th>\n",
       "      <th>5</th>\n",
       "      <th>6</th>\n",
       "      <th>7</th>\n",
       "      <th>8</th>\n",
       "      <th>9</th>\n",
       "    </tr>\n",
       "  </thead>\n",
       "  <tbody>\n",
       "    <tr>\n",
       "      <th>0</th>\n",
       "      <td>1st</td>\n",
       "      <td>3</td>\n",
       "      <td>4</td>\n",
       "      <td>3</td>\n",
       "      <td>3</td>\n",
       "      <td>0</td>\n",
       "      <td>0</td>\n",
       "      <td>0</td>\n",
       "      <td>0</td>\n",
       "      <td>0</td>\n",
       "    </tr>\n",
       "    <tr>\n",
       "      <th>1</th>\n",
       "      <td>2nd</td>\n",
       "      <td>4</td>\n",
       "      <td>5</td>\n",
       "      <td>4</td>\n",
       "      <td>1</td>\n",
       "      <td>0</td>\n",
       "      <td>0</td>\n",
       "      <td>0</td>\n",
       "      <td>0</td>\n",
       "      <td>0</td>\n",
       "    </tr>\n",
       "    <tr>\n",
       "      <th>2</th>\n",
       "      <td>3rd</td>\n",
       "      <td>4</td>\n",
       "      <td>3</td>\n",
       "      <td>5</td>\n",
       "      <td>2</td>\n",
       "      <td>1</td>\n",
       "      <td>0</td>\n",
       "      <td>0</td>\n",
       "      <td>0</td>\n",
       "      <td>0</td>\n",
       "    </tr>\n",
       "    <tr>\n",
       "      <th>3</th>\n",
       "      <td>4th</td>\n",
       "      <td>6</td>\n",
       "      <td>3</td>\n",
       "      <td>4</td>\n",
       "      <td>2</td>\n",
       "      <td>0</td>\n",
       "      <td>0</td>\n",
       "      <td>0</td>\n",
       "      <td>0</td>\n",
       "      <td>0</td>\n",
       "    </tr>\n",
       "  </tbody>\n",
       "</table>\n",
       "</div>"
      ],
      "text/plain": [
       "     0  1  2  3  4  5  6  7  8  9\n",
       "0  1st  3  4  3  3  0  0  0  0  0\n",
       "1  2nd  4  5  4  1  0  0  0  0  0\n",
       "2  3rd  4  3  5  2  1  0  0  0  0\n",
       "3  4th  6  3  4  2  0  0  0  0  0"
      ]
     },
     "execution_count": 13,
     "metadata": {},
     "output_type": "execute_result"
    }
   ],
   "source": [
    "data"
   ]
  },
  {
   "cell_type": "code",
   "execution_count": 14,
   "metadata": {},
   "outputs": [
    {
     "name": "stderr",
     "output_type": "stream",
     "text": [
      "C:\\Users\\User\\Anaconda3\\lib\\site-packages\\sklearn\\linear_model\\logistic.py:433: FutureWarning: Default solver will be changed to 'lbfgs' in 0.22. Specify a solver to silence this warning.\n",
      "  FutureWarning)\n",
      "C:\\Users\\User\\Anaconda3\\lib\\site-packages\\sklearn\\linear_model\\logistic.py:460: FutureWarning: Default multi_class will be changed to 'auto' in 0.22. Specify the multi_class option to silence this warning.\n",
      "  \"this warning.\", FutureWarning)\n"
     ]
    },
    {
     "data": {
      "text/plain": [
       "LogisticRegression(C=1.0, class_weight=None, dual=False, fit_intercept=True,\n",
       "          intercept_scaling=1, max_iter=100, multi_class='warn',\n",
       "          n_jobs=None, penalty='l2', random_state=None, solver='warn',\n",
       "          tol=0.0001, verbose=0, warm_start=False)"
      ]
     },
     "execution_count": 14,
     "metadata": {},
     "output_type": "execute_result"
    }
   ],
   "source": [
    "from sklearn.linear_model import LogisticRegression\n",
    "clf1 = LogisticRegression()\n",
    "clf1.fit(X,y)"
   ]
  },
  {
   "cell_type": "code",
   "execution_count": 15,
   "metadata": {},
   "outputs": [],
   "source": [
    "num=[13,25,19,7]\n",
    "vectors=[]\n",
    "for d in num:\n",
    "    images=read(pattern=str(d)+\".jpg\")\n",
    "    for img in images:\n",
    "        skeleton, skel, points = skeleton_ex_points(img,rad=55)\n",
    "        balls=center_balls(img)\n",
    "        vec=vector(points, balls, skel)\n",
    "        vectors.append(vec)\n",
    "vectors=np.array(vectors)"
   ]
  },
  {
   "cell_type": "code",
   "execution_count": 16,
   "metadata": {},
   "outputs": [
    {
     "data": {
      "text/plain": [
       "array(['1st', '2nd', '3rd', '4th'], dtype=object)"
      ]
     },
     "execution_count": 16,
     "metadata": {},
     "output_type": "execute_result"
    }
   ],
   "source": [
    "clf1.predict(vectors)"
   ]
  },
  {
   "cell_type": "code",
   "execution_count": 17,
   "metadata": {},
   "outputs": [
    {
     "data": {
      "text/plain": [
       "array([[3, 4, 3, 3, 0, 0, 0, 0, 0],\n",
       "       [4, 5, 4, 1, 0, 0, 0, 0, 0],\n",
       "       [4, 3, 5, 2, 1, 0, 0, 0, 0],\n",
       "       [6, 3, 4, 2, 0, 0, 0, 0, 0]])"
      ]
     },
     "execution_count": 17,
     "metadata": {},
     "output_type": "execute_result"
    }
   ],
   "source": [
    "vectors"
   ]
  },
  {
   "cell_type": "code",
   "execution_count": null,
   "metadata": {},
   "outputs": [],
   "source": []
  }
 ],
 "metadata": {
  "kernelspec": {
   "display_name": "Python 3",
   "language": "python",
   "name": "python3"
  },
  "language_info": {
   "codemirror_mode": {
    "name": "ipython",
    "version": 3
   },
   "file_extension": ".py",
   "mimetype": "text/x-python",
   "name": "python",
   "nbconvert_exporter": "python",
   "pygments_lexer": "ipython3",
   "version": "3.7.3"
  }
 },
 "nbformat": 4,
 "nbformat_minor": 2
}
